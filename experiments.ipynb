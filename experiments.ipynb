{
 "cells": [
  {
   "cell_type": "code",
   "execution_count": 1,
   "metadata": {},
   "outputs": [],
   "source": [
    "%load_ext autoreload\n",
    "%autoreload 2"
   ]
  },
  {
   "cell_type": "code",
   "execution_count": 2,
   "metadata": {},
   "outputs": [],
   "source": [
    "import numpy as np\n",
    "import matplotlib.pyplot as plt\n",
    "\n",
    "import pywt\n",
    "import pywt.data"
   ]
  },
  {
   "cell_type": "code",
   "execution_count": 38,
   "metadata": {},
   "outputs": [],
   "source": [
    "from datasets import *\n",
    "from preprocess import *\n",
    "from functions import *\n",
    "import pywt"
   ]
  },
  {
   "cell_type": "code",
   "execution_count": 4,
   "metadata": {},
   "outputs": [],
   "source": [
    "X = sinusoid_dataset(100, 10)"
   ]
  },
  {
   "cell_type": "code",
   "execution_count": 5,
   "metadata": {},
   "outputs": [
    {
     "data": {
      "text/plain": [
       "(90, 10)"
      ]
     },
     "execution_count": 5,
     "metadata": {},
     "output_type": "execute_result"
    }
   ],
   "source": [
    "X.shape"
   ]
  },
  {
   "cell_type": "code",
   "execution_count": 6,
   "metadata": {},
   "outputs": [
    {
     "data": {
      "text/plain": [
       "<matplotlib.image.AxesImage at 0x7f6a44174550>"
      ]
     },
     "execution_count": 6,
     "metadata": {},
     "output_type": "execute_result"
    },
    {
     "data": {
      "image/png": "[encoded data removed]",
      "text/plain": [
       "<Figure size 432x288 with 1 Axes>"
      ]
     },
     "metadata": {
      "needs_background": "light"
     },
     "output_type": "display_data"
    }
   ],
   "source": [
    "plt.imshow(X)"
   ]
  },
  {
   "cell_type": "code",
   "execution_count": 7,
   "metadata": {},
   "outputs": [],
   "source": [
    "dataset = TimeSeriesDataset(X, lambda x: coefs_wavelet(x, pywt.Wavelet('haar')), normalize=True)"
   ]
  },
  {
   "cell_type": "code",
   "execution_count": 8,
   "metadata": {
    "scrolled": true
   },
   "outputs": [
    {
     "data": {
      "text/plain": [
       "<matplotlib.image.AxesImage at 0x7f69e9a87c50>"
      ]
     },
     "execution_count": 8,
     "metadata": {},
     "output_type": "execute_result"
    },
    {
     "data": {
      "image/png": "[encoded data removed]",
      "text/plain": [
       "<Figure size 432x288 with 1 Axes>"
      ]
     },
     "metadata": {
      "needs_background": "light"
     },
     "output_type": "display_data"
    }
   ],
   "source": [
    "X, C = dataset[0]\n",
    "plt.imshow(inverse_wavelet(C[0], pywt.Wavelet('haar')))"
   ]
  },
  {
   "cell_type": "code",
   "execution_count": 18,
   "metadata": {},
   "outputs": [
    {
     "data": {
      "text/plain": [
       "tensor([[ 0.6729, -0.0701, -0.7699, -0.9936, -0.6031,  0.1516,  0.2044,  0.1308,\n",
       "         -0.0236, -0.1634],\n",
       "        [-0.0701, -0.7699, -0.9936, -0.6031,  0.1603,  0.2044,  0.1308, -0.0236,\n",
       "         -0.1634, -0.2022],\n",
       "        [-0.7699, -0.9936, -0.6031,  0.1603,  0.8246,  0.1308, -0.0236, -0.1634,\n",
       "         -0.2022, -0.1160],\n",
       "        [-0.9936, -0.6031,  0.1603,  0.8246,  0.9791, -0.0236, -0.1634, -0.2022,\n",
       "         -0.1160,  0.0420],\n",
       "        [-0.6031,  0.1603,  0.8246,  0.9791,  0.5283, -0.1634, -0.2022, -0.1160,\n",
       "          0.0420,  0.1740],\n",
       "        [ 0.1516,  0.2044,  0.1308, -0.0236, -0.1634, -0.0282,  0.0029,  0.0323,\n",
       "          0.0417,  0.0253],\n",
       "        [ 0.2044,  0.1308, -0.0236, -0.1634, -0.2022,  0.0029,  0.0323,  0.0417,\n",
       "          0.0253, -0.0067],\n",
       "        [ 0.1308, -0.0236, -0.1634, -0.2022, -0.1160,  0.0323,  0.0417,  0.0253,\n",
       "         -0.0067, -0.0346],\n",
       "        [-0.0236, -0.1634, -0.2022, -0.1160,  0.0420,  0.0417,  0.0253, -0.0067,\n",
       "         -0.0346, -0.0411],\n",
       "        [-0.1634, -0.2022, -0.1160,  0.0420,  0.1740,  0.0253, -0.0067, -0.0346,\n",
       "         -0.0411, -0.0222]], dtype=torch.float64)"
      ]
     },
     "execution_count": 18,
     "metadata": {},
     "output_type": "execute_result"
    }
   ],
   "source": [
    "C[0]"
   ]
  },
  {
   "cell_type": "code",
   "execution_count": 22,
   "metadata": {},
   "outputs": [
    {
     "name": "stderr",
     "output_type": "stream",
     "text": [
      "[autoreload of functions failed: Traceback (most recent call last):\n",
      "  File \"/home/anand/anaconda3/lib/python3.7/site-packages/IPython/extensions/autoreload.py\", line 245, in check\n",
      "    superreload(m, reload, self.old_objects)\n",
      "  File \"/home/anand/anaconda3/lib/python3.7/site-packages/IPython/extensions/autoreload.py\", line 434, in superreload\n",
      "    module = reload(module)\n",
      "  File \"/home/anand/anaconda3/lib/python3.7/imp.py\", line 314, in reload\n",
      "    return importlib.reload(module)\n",
      "  File \"/home/anand/anaconda3/lib/python3.7/importlib/__init__.py\", line 169, in reload\n",
      "    _bootstrap._exec(spec, module)\n",
      "  File \"<frozen importlib._bootstrap>\", line 630, in _exec\n",
      "  File \"<frozen importlib._bootstrap_external>\", line 724, in exec_module\n",
      "  File \"<frozen importlib._bootstrap_external>\", line 860, in get_code\n",
      "  File \"<frozen importlib._bootstrap_external>\", line 791, in source_to_code\n",
      "  File \"<frozen importlib._bootstrap>\", line 219, in _call_with_frames_removed\n",
      "  File \"/home/anand/dev/koopman-functional-maps/functions.py\", line 51\n",
      "    out[i,j] =\n",
      "              ^\n",
      "SyntaxError: invalid syntax\n",
      "]\n"
     ]
    },
    {
     "data": {
      "text/plain": [
       "tensor([ 0.6729, -0.0701, -0.7699, -0.9936, -0.6031,  0.1516,  0.2044,  0.1308,\n",
       "        -0.0236, -0.1634], dtype=torch.float64)"
      ]
     },
     "execution_count": 22,
     "metadata": {},
     "output_type": "execute_result"
    }
   ],
   "source": [
    "C[0][:,0]"
   ]
  },
  {
   "cell_type": "code",
   "execution_count": 23,
   "metadata": {},
   "outputs": [
    {
     "data": {
      "text/plain": [
       "tensor([ 0.6729, -0.0701, -0.7699, -0.9936, -0.6031,  0.1516,  0.2044,  0.1308,\n",
       "        -0.0236, -0.1634], dtype=torch.float64)"
      ]
     },
     "execution_count": 23,
     "metadata": {},
     "output_type": "execute_result"
    }
   ],
   "source": [
    "C[0].t()[0,:]"
   ]
  },
  {
   "cell_type": "code",
   "execution_count": 153,
   "metadata": {},
   "outputs": [
    {
     "data": {
      "text/plain": [
       "<matplotlib.image.AxesImage at 0x7efd2e0057b8>"
      ]
     },
     "execution_count": 153,
     "metadata": {},
     "output_type": "execute_result"
    },
    {
     "data": {
      "image/png": "[encoded data removed]",
      "text/plain": [
       "<Figure size 432x288 with 1 Axes>"
      ]
     },
     "metadata": {
      "needs_background": "light"
     },
     "output_type": "display_data"
    }
   ],
   "source": [
    "plt.imshow(X[0])"
   ]
  },
  {
   "cell_type": "code",
   "execution_count": 65,
   "metadata": {},
   "outputs": [],
   "source": [
    "import torch"
   ]
  },
  {
   "cell_type": "code",
   "execution_count": 68,
   "metadata": {},
   "outputs": [],
   "source": [
    "x_shape = dataset.input_shape\n",
    "gaussian_kernel = RFFKernel(x_shape[1], D=5, metric='rbf')\n",
    "laplace_kernel = RFFKernel(x_shape[1], D=5, metric='laplace')"
   ]
  },
  {
   "cell_type": "code",
   "execution_count": 71,
   "metadata": {},
   "outputs": [
    {
     "data": {
      "text/plain": [
       "tensor([[-0.5664,  0.4560,  0.3945,  0.4685, -0.5315]], dtype=torch.float64)"
      ]
     },
     "execution_count": 71,
     "metadata": {},
     "output_type": "execute_result"
    }
   ],
   "source": [
    "gaussian_kernel(dataset[0][0][0][1])"
   ]
  },
  {
   "cell_type": "code",
   "execution_count": 70,
   "metadata": {},
   "outputs": [
    {
     "data": {
      "text/plain": [
       "tensor([[-0.6323,  0.4793,  0.5401,  0.6206, -0.0916],\n",
       "        [-0.5667,  0.4561,  0.3946,  0.4678, -0.5319],\n",
       "        [-0.6011,  0.4851,  0.2857, -0.5295,  0.2463],\n",
       "        [-0.5864,  0.5502,  0.2699,  0.1713,  0.5238],\n",
       "        [-0.0268,  0.6125,  0.3546,  0.1471,  0.3756],\n",
       "        [ 0.6187,  0.6316,  0.4980, -0.5177, -0.3390],\n",
       "        [ 0.2119,  0.5944,  0.6134,  0.4769, -0.4107],\n",
       "        [-0.4947,  0.5261,  0.6183,  0.6199,  0.6319],\n",
       "        [-0.6234,  0.4698,  0.5089,  0.6308, -0.3728],\n",
       "        [-0.5613,  0.4582,  0.3642,  0.2989, -0.3690]], dtype=torch.float64)"
      ]
     },
     "execution_count": 70,
     "metadata": {},
     "output_type": "execute_result"
    }
   ],
   "source": [
    "gaussian_kernel(dataset[0][0][0])"
   ]
  },
  {
   "cell_type": "code",
   "execution_count": 61,
   "metadata": {},
   "outputs": [
    {
     "data": {
      "text/plain": [
       "torch.Size([10])"
      ]
     },
     "execution_count": 61,
     "metadata": {},
     "output_type": "execute_result"
    }
   ],
   "source": [
    "dataset[0][0][0][0].shape"
   ]
  },
  {
   "cell_type": "code",
   "execution_count": null,
   "metadata": {},
   "outputs": [],
   "source": []
  }
 ],
 "metadata": {
  "kernelspec": {
   "display_name": "Python 3",
   "language": "python",
   "name": "python3"
  },
  "language_info": {
   "codemirror_mode": {
    "name": "ipython",
    "version": 3
   },
   "file_extension": ".py",
   "mimetype": "text/x-python",
   "name": "python",
   "nbconvert_exporter": "python",
   "pygments_lexer": "ipython3",
   "version": "3.7.3"
  }
 },
 "nbformat": 4,
 "nbformat_minor": 2
}
